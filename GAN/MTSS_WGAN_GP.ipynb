{
 "cells": [
  {
   "cell_type": "markdown",
   "metadata": {
    "pycharm": {
     "name": "#%% md\n"
    }
   },
   "source": [
    "Large amount of credit goes to:<br>\n",
    "https://github.com/keras-team/keras-contrib/blob/master/examples/improved_wgan.py<br>\n",
    "which I've used as a reference for this implementation"
   ]
  },
  {
   "cell_type": "code",
   "execution_count": null,
   "metadata": {
    "pycharm": {
     "name": "#%%\n"
    }
   },
   "outputs": [],
   "source": [
    "from __future__ import print_function, division"
   ]
  },
  {
   "cell_type": "code",
   "execution_count": null,
   "metadata": {
    "pycharm": {
     "name": "#%%\n"
    }
   },
   "outputs": [],
   "source": [
    "import pickle\n",
    "from datetime import datetime\n",
    "from random import randint\n",
    "import tensorflow as tf\n",
    "from keras.datasets import mnist\n",
    "from keras.layers.merging.base_merge import _Merge\n",
    "from keras.layers import Input, Dense, Reshape, Flatten, Dropout, LSTM, LayerNormalization\n",
    "from keras.layers import BatchNormalization, Activation, ZeroPadding2D, LeakyReLU\n",
    "from keras.layers.convolutional import UpSampling2D, Conv2D\n",
    "from keras.models import Sequential, Model\n",
    "from keras.optimizers import RMSprop\n",
    "from functools import partial"
   ]
  },
  {
   "cell_type": "code",
   "execution_count": null,
   "metadata": {
    "pycharm": {
     "name": "#%%\n"
    }
   },
   "outputs": [],
   "source": [
    "import keras.backend as K"
   ]
  },
  {
   "cell_type": "code",
   "execution_count": null,
   "metadata": {
    "pycharm": {
     "name": "#%%\n"
    }
   },
   "outputs": [],
   "source": [
    "import matplotlib.pyplot as plt"
   ]
  },
  {
   "cell_type": "code",
   "execution_count": null,
   "metadata": {
    "pycharm": {
     "name": "#%%\n"
    }
   },
   "outputs": [],
   "source": [
    "import sys"
   ]
  },
  {
   "cell_type": "code",
   "execution_count": null,
   "metadata": {
    "pycharm": {
     "name": "#%%\n"
    }
   },
   "outputs": [],
   "source": [
    "import numpy as np"
   ]
  },
  {
   "cell_type": "code",
   "execution_count": null,
   "metadata": {
    "pycharm": {
     "name": "#%%\n"
    }
   },
   "outputs": [],
   "source": [
    "from tensorflow.python.framework.ops import disable_eager_execution"
   ]
  },
  {
   "cell_type": "code",
   "execution_count": null,
   "metadata": {
    "pycharm": {
     "name": "#%%\n"
    }
   },
   "outputs": [],
   "source": [
    "disable_eager_execution()"
   ]
  },
  {
   "cell_type": "code",
   "execution_count": null,
   "metadata": {
    "pycharm": {
     "name": "#%%\n"
    }
   },
   "outputs": [],
   "source": [
    "import pandas as pd"
   ]
  },
  {
   "cell_type": "markdown",
   "metadata": {
    "pycharm": {
     "name": "#%% md\n"
    }
   },
   "source": [
    "Read-in cleaned data"
   ]
  },
  {
   "cell_type": "code",
   "execution_count": null,
   "metadata": {
    "pycharm": {
     "name": "#%%\n"
    }
   },
   "outputs": [],
   "source": [
    "from sklearn.preprocessing import MinMaxScaler"
   ]
  },
  {
   "cell_type": "code",
   "execution_count": null,
   "metadata": {
    "pycharm": {
     "name": "#%%\n"
    }
   },
   "outputs": [],
   "source": [
    "def read_csv(loc, date=True):\n",
    "    df = pd.read_csv(loc)\n",
    "    if date:\n",
    "        df['Date'] = pd.to_datetime(df['Date'])\n",
    "        df.set_index('Date', inplace=True)\n",
    "    return df"
   ]
  },
  {
   "cell_type": "code",
   "execution_count": null,
   "metadata": {
    "pycharm": {
     "name": "#%%\n"
    }
   },
   "outputs": [],
   "source": [
    "def dic_read(loc):\n",
    "    a_file = open(loc, \"rb\")\n",
    "    output = pickle.load(a_file)\n",
    "    return output"
   ]
  },
  {
   "cell_type": "code",
   "execution_count": null,
   "metadata": {
    "pycharm": {
     "name": "#%%\n"
    }
   },
   "outputs": [],
   "source": [
    "def set_seed(seed_value=123):\n",
    "    import os\n",
    "    import random\n",
    "    import tensorflow as tf\n",
    "    os.environ['PYTHONHASHSEED'] = str(seed_value)\n",
    "    np.random.seed(seed_value)\n",
    "    random.seed(seed_value)\n",
    "    tf.random.set_seed(seed_value)\n",
    "    from keras import backend as K\n",
    "    session_conf = tf.compat.v1.ConfigProto(intra_op_parallelism_threads=1, inter_op_parallelism_threads=1)\n",
    "    sess = tf.compat.v1.Session(graph=tf.compat.v1.get_default_graph(), config=session_conf)\n",
    "    tf.compat.v1.keras.backend.set_session(sess)\n",
    "    K.set_session(sess)"
   ]
  },
  {
   "cell_type": "code",
   "execution_count": null,
   "metadata": {
    "pycharm": {
     "name": "#%%\n"
    }
   },
   "outputs": [],
   "source": [
    "def random_sampling(dataset, n_sample, window):\n",
    "    '''\n",
    "    implicitly assuming there is no calendar effect.\n",
    "    :param dataset: np.ndarray\n",
    "    :param n_sample:\n",
    "    :param window:\n",
    "    :return:\n",
    "    '''\n",
    "    isinstance(dataset, np.ndarray)\n",
    "    step = 0\n",
    "    res = []\n",
    "    while step < n_sample:\n",
    "        step += 1\n",
    "        randidx = randint(0, dataset.shape[0] - window)\n",
    "        res.append(dataset[randidx:window + randidx])\n",
    "    # label as real data\n",
    "    # label = np.ones(n_sample)\n",
    "    # return np.array(res), label\n",
    "    return np.array(res)"
   ]
  },
  {
   "cell_type": "code",
   "execution_count": null,
   "metadata": {
    "pycharm": {
     "name": "#%%\n"
    }
   },
   "outputs": [],
   "source": [
    "set_seed()"
   ]
  },
  {
   "cell_type": "code",
   "execution_count": null,
   "metadata": {
    "pycharm": {
     "name": "#%%\n"
    }
   },
   "outputs": [],
   "source": [
    "hfd = read_csv('../cleaned_data/hfd.csv')\n",
    "factor_etf_data = read_csv('../cleaned_data/factor_etf_data.csv')\n",
    "hfd_fullname = dic_read('../cleaned_data/hfd_fullname.pkl')\n",
    "factor_etf_name = dic_read('../cleaned_data/factor_etf_name.pkl')"
   ]
  },
  {
   "cell_type": "code",
   "execution_count": null,
   "metadata": {
    "pycharm": {
     "name": "#%%\n"
    }
   },
   "outputs": [],
   "source": [
    "all_data_name = {**factor_etf_name, **hfd_fullname}"
   ]
  },
  {
   "cell_type": "code",
   "execution_count": null,
   "metadata": {
    "pycharm": {
     "name": "#%%\n"
    }
   },
   "outputs": [],
   "source": [
    "dataset = factor_etf_data.join(hfd)\n",
    "data_scaler = MinMaxScaler()\n",
    "data = data_scaler.fit_transform(dataset)"
   ]
  },
  {
   "cell_type": "code",
   "execution_count": null,
   "metadata": {
    "pycharm": {
     "name": "#%%\n"
    }
   },
   "outputs": [],
   "source": [
    "dataset = random_sampling(data, 1000, 48)"
   ]
  },
  {
   "cell_type": "markdown",
   "metadata": {
    "pycharm": {
     "name": "#%% md\n"
    }
   },
   "source": [
    "class RandomWeightedAverage(_Merge):<br>\n",
    "#     \n",
    "<br>\n",
    "#     Provides a (random) weighted average between real and generated image samples<br>\n",
    "#     Warning: the first dimension of the random_uniform needs to be the same as the batchsize<br>\n",
    "    \n",
    "<br>\n",
    "<br>\n",
    "    def _merge_function(self, inputs):<br>\n",
    "        alpha = K.random_uniform((32, 1, 1))<br>\n",
    "        return (alpha * inputs[0]) + ((1 - alpha) * inputs[1])"
   ]
  },
  {
   "cell_type": "code",
   "execution_count": null,
   "metadata": {
    "pycharm": {
     "name": "#%%\n"
    }
   },
   "outputs": [],
   "source": [
    "class MTTS_WGAN_GP():\n",
    "    def __init__(self, dataset):\n",
    "        self.X_train = dataset\n",
    "        self.ts_length = self.X_train.shape[1]\n",
    "        self.ts_feature = self.X_train.shape[2]\n",
    "        self.ts_shape = (self.ts_length, self.ts_feature)\n",
    "        self.latent_shape = (self.ts_length, self.ts_feature)\n",
    "\n",
    "        # Following parameter and optimizer set as recommended in paper\n",
    "        self.n_critic = 5\n",
    "        optimizer = RMSprop(learning_rate=0.00005)\n",
    "\n",
    "        # Build the generator and critic\n",
    "        self.generator = self.build_generator()\n",
    "        self.critic = self.build_critic()\n",
    "\n",
    "        # -------------------------------\n",
    "        # Construct Computational Graph\n",
    "        #       for the Critic\n",
    "        # -------------------------------\n",
    "\n",
    "        # Freeze generator's layers while training critic\n",
    "        self.generator.trainable = False\n",
    "\n",
    "        # Image input (real sample)\n",
    "        real_ts = Input(shape=self.ts_shape)\n",
    "\n",
    "        # Noise input\n",
    "        z_disc = Input(shape=(self.ts_length, self.ts_feature,))\n",
    "        # Generate image based of noise (fake sample)\n",
    "        fake_ts = self.generator(z_disc)\n",
    "\n",
    "        # Discriminator determines validity of the real and fake images\n",
    "        fake = self.critic(fake_ts)\n",
    "        valid = self.critic(real_ts)\n",
    "\n",
    "        # Construct weighted average between real and fake images\n",
    "        interpolated_img = self.RandomWeightedAverage()([real_ts, fake_ts])\n",
    "        # Determine validity of weighted sample\n",
    "        validity_interpolated = self.critic(interpolated_img)\n",
    "\n",
    "        # Use Python partial to provide loss function with additional\n",
    "        # 'averaged_samples' argument\n",
    "        partial_gp_loss = partial(self.gradient_penalty_loss,\n",
    "                                  averaged_samples=interpolated_img)\n",
    "        partial_gp_loss.__name__ = 'gradient_penalty'  # Keras requires function names\n",
    "        self.critic_model = Model(inputs=[real_ts, z_disc],\n",
    "                                  outputs=[valid, fake, validity_interpolated])\n",
    "        self.critic_model.compile(loss=[self.wasserstein_loss,\n",
    "                                        self.wasserstein_loss,\n",
    "                                        partial_gp_loss],\n",
    "                                  optimizer=optimizer,\n",
    "                                  loss_weights=[1, 1, 10])\n",
    "        # -------------------------------\n",
    "        # Construct Computational Graph\n",
    "        #         for Generator\n",
    "        # -------------------------------\n",
    "\n",
    "        # For the generator we freeze the critic's layers\n",
    "        self.critic.trainable = False\n",
    "        self.generator.trainable = True\n",
    "\n",
    "        # Sampled noise for input to generator\n",
    "        z_gen = Input(shape=(self.ts_length, self.ts_feature,))\n",
    "        # Generate images based of noise\n",
    "        ts = self.generator(z_gen)\n",
    "        # Discriminator determines validity\n",
    "        valid = self.critic(ts)\n",
    "        # Defines generator model\n",
    "        self.generator_model = Model(z_gen, valid)\n",
    "        self.generator_model.compile(loss=self.wasserstein_loss, optimizer=optimizer)\n",
    "    class RandomWeightedAverage(_Merge):\n",
    "        \"\"\"\n",
    "        Provides a (random) weighted average between real and generated image samples\n",
    "        Warning: the first dimension of the random_uniform needs to be the same as the batchsize\n",
    "        \"\"\"\n",
    "        def _merge_function(self, inputs):\n",
    "            alpha = K.random_uniform((32, 1, 1))\n",
    "            return (alpha * inputs[0]) + ((1 - alpha) * inputs[1])\n",
    "    def gradient_penalty_loss(self, y_true, y_pred, averaged_samples):\n",
    "        \"\"\"\n",
    "        Computes gradient penalty based on prediction and weighted real / fake samples\n",
    "        \"\"\"\n",
    "        gradients = K.gradients(y_pred, averaged_samples)[0]\n",
    "        # compute the euclidean norm by squaring ...\n",
    "        gradients_sqr = K.square(gradients)\n",
    "        #   ... summing over the rows ...\n",
    "        gradients_sqr_sum = K.sum(gradients_sqr,\n",
    "                                  axis=np.arange(1, len(gradients_sqr.shape)))\n",
    "        #   ... and sqrt\n",
    "        gradient_l2_norm = K.sqrt(gradients_sqr_sum)\n",
    "        # compute lambda * (1 - ||grad||)^2 still for each single sample\n",
    "        gradient_penalty = K.square(1 - gradient_l2_norm)\n",
    "        # return the mean as loss over all the batch samples\n",
    "        return K.mean(gradient_penalty)\n",
    "    def wasserstein_loss(self, y_true, y_pred):\n",
    "        return K.mean(y_true * y_pred)\n",
    "    def build_generator(self):\n",
    "        model = Sequential(\n",
    "            [\n",
    "                LSTM(100, input_shape=self.latent_shape, activation='sigmoid', return_sequences=True),\n",
    "                LayerNormalization(),\n",
    "                LSTM(100, return_sequences=True, activation='sigmoid'),\n",
    "                LeakyReLU(alpha=.2),\n",
    "                LayerNormalization(),\n",
    "                Dense(self.ts_feature)\n",
    "            ])\n",
    "        model.summary()\n",
    "        noise = Input(shape=(self.ts_length, self.ts_feature,))\n",
    "        ts = model(noise)\n",
    "        return Model(noise, ts)\n",
    "    def build_critic(self):\n",
    "        model = Sequential(\n",
    "            [\n",
    "                LSTM(100, input_shape=self.ts_shape, return_sequences=True),\n",
    "                LSTM(100, return_sequences=True),\n",
    "                Flatten(),\n",
    "                Dense(1)\n",
    "            ]\n",
    "        )\n",
    "        model.summary()\n",
    "        ts = Input(shape=self.ts_shape)\n",
    "        validity = model(ts)\n",
    "        return Model(ts, validity)\n",
    "    def train(self, epochs, batch_size, sample_interval=50):\n",
    "\n",
    "        # Adversarial ground truths\n",
    "        valid = -np.ones((batch_size, 1))\n",
    "        fake = np.ones((batch_size, 1))\n",
    "        dummy = np.zeros((batch_size, 1))  # Dummy gt for gradient penalty\n",
    "        for epoch in range(epochs):\n",
    "            for _ in range(self.n_critic):\n",
    "                # ---------------------\n",
    "                #  Train Discriminator\n",
    "                # ---------------------\n",
    "                # Select a random batch of images\n",
    "                idx = np.random.randint(0, self.X_train.shape[0], batch_size)\n",
    "                imgs = self.X_train[idx]\n",
    "                # Sample generator input\n",
    "                noise = np.random.normal(0, 1, (batch_size, self.ts_length, self.ts_feature))\n",
    "                # Train the critic\n",
    "                d_loss = self.critic_model.train_on_batch(\n",
    "                    [imgs, noise],\n",
    "                    [valid, fake, dummy])\n",
    "\n",
    "            # ---------------------\n",
    "            #  Train Generator\n",
    "            # ---------------------\n",
    "            tf.compat.v1.experimental.output_all_intermediates(True)\n",
    "            g_loss = self.generator_model.train_on_batch(noise, valid)\n",
    "\n",
    "            # Plot the progress\n",
    "            print(\"%d [D loss: %f] [G loss: %f]\" % (epoch, d_loss[0], g_loss))\n",
    "        time_now = datetime.now().strftime(\"%Y%m%d_%H-%M-%S\")\n",
    "        self.generator.compile(optimizer=RMSprop(), loss='binary_crossentropy')\n",
    "        self.generator.save(f'./trained_generator/MTSS_GAN_GP{time_now}.h5')"
   ]
  },
  {
   "cell_type": "code",
   "execution_count": null,
   "metadata": {
    "pycharm": {
     "name": "#%%\n"
    }
   },
   "outputs": [],
   "source": [
    "if __name__ == '__main__':\n",
    "    wgan = MTTS_WGAN_GP(dataset)\n",
    "    wgan.train(epochs=5000, batch_size=32, sample_interval=100)"
   ]
  }
 ],
 "metadata": {
  "kernelspec": {
   "display_name": "Python 3",
   "language": "python",
   "name": "python3"
  },
  "language_info": {
   "codemirror_mode": {
    "name": "ipython",
    "version": 3
   },
   "file_extension": ".py",
   "mimetype": "text/x-python",
   "name": "python",
   "nbconvert_exporter": "python",
   "pygments_lexer": "ipython3",
   "version": "3.6.4"
  }
 },
 "nbformat": 4,
 "nbformat_minor": 2
}