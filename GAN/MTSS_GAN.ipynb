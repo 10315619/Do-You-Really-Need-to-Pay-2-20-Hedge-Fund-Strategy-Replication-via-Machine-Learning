{
 "cells": [
  {
   "cell_type": "code",
   "execution_count": null,
   "metadata": {
    "pycharm": {
     "name": "#%%\n"
    }
   },
   "outputs": [],
   "source": [
    "from __future__ import print_function, division"
   ]
  },
  {
   "cell_type": "code",
   "execution_count": null,
   "metadata": {
    "pycharm": {
     "name": "#%%\n"
    }
   },
   "outputs": [],
   "source": [
    "import pickle\n",
    "from random import randint"
   ]
  },
  {
   "cell_type": "code",
   "execution_count": null,
   "metadata": {
    "pycharm": {
     "name": "#%%\n"
    }
   },
   "outputs": [],
   "source": [
    "from keras.datasets import mnist\n",
    "from keras.layers import Input, Dense, Reshape, Flatten, LSTM, LayerNormalization\n",
    "from keras.layers import BatchNormalization, LeakyReLU\n",
    "from keras.models import Sequential, Model\n",
    "from keras.optimizers import Adam"
   ]
  },
  {
   "cell_type": "code",
   "execution_count": null,
   "metadata": {
    "pycharm": {
     "name": "#%%\n"
    }
   },
   "outputs": [],
   "source": [
    "import matplotlib.pyplot as plt"
   ]
  },
  {
   "cell_type": "code",
   "execution_count": null,
   "metadata": {
    "pycharm": {
     "name": "#%%\n"
    }
   },
   "outputs": [],
   "source": [
    "import sys"
   ]
  },
  {
   "cell_type": "code",
   "execution_count": null,
   "metadata": {
    "pycharm": {
     "name": "#%%\n"
    }
   },
   "outputs": [],
   "source": [
    "import numpy as np\n",
    "import pandas as pd"
   ]
  },
  {
   "cell_type": "markdown",
   "metadata": {
    "pycharm": {
     "name": "#%% md\n"
    }
   },
   "source": [
    "Read-in cleaned data"
   ]
  },
  {
   "cell_type": "code",
   "execution_count": null,
   "metadata": {
    "pycharm": {
     "name": "#%%\n"
    }
   },
   "outputs": [],
   "source": [
    "from sklearn.preprocessing import MinMaxScaler"
   ]
  },
  {
   "cell_type": "code",
   "execution_count": null,
   "metadata": {
    "pycharm": {
     "name": "#%%\n"
    }
   },
   "outputs": [],
   "source": [
    "def read_csv(loc, date=True):\n",
    "    df = pd.read_csv(loc)\n",
    "    if date:\n",
    "        df['Date'] = pd.to_datetime(df['Date'])\n",
    "        df.set_index('Date', inplace=True)\n",
    "    return df"
   ]
  },
  {
   "cell_type": "code",
   "execution_count": null,
   "metadata": {
    "pycharm": {
     "name": "#%%\n"
    }
   },
   "outputs": [],
   "source": [
    "def dic_read(loc):\n",
    "    a_file = open(loc, \"rb\")\n",
    "    output = pickle.load(a_file)\n",
    "    return output"
   ]
  },
  {
   "cell_type": "code",
   "execution_count": null,
   "metadata": {
    "pycharm": {
     "name": "#%%\n"
    }
   },
   "outputs": [],
   "source": [
    "def set_seed(seed_value=123):\n",
    "    import os\n",
    "    import random\n",
    "    import tensorflow as tf\n",
    "    os.environ['PYTHONHASHSEED'] = str(seed_value)\n",
    "    np.random.seed(seed_value)\n",
    "    random.seed(seed_value)\n",
    "    tf.random.set_seed(seed_value)\n",
    "    from keras import backend as K\n",
    "    session_conf = tf.compat.v1.ConfigProto(intra_op_parallelism_threads=1, inter_op_parallelism_threads=1)\n",
    "    sess = tf.compat.v1.Session(graph=tf.compat.v1.get_default_graph(), config=session_conf)\n",
    "    tf.compat.v1.keras.backend.set_session(sess)\n",
    "    K.set_session(sess)"
   ]
  },
  {
   "cell_type": "code",
   "execution_count": null,
   "metadata": {
    "pycharm": {
     "name": "#%%\n"
    }
   },
   "outputs": [],
   "source": [
    "def random_sampling(dataset, n_sample, window):\n",
    "    '''\n",
    "    implicitly assuming there is no calendar effect.\n",
    "    :param dataset: np.ndarray\n",
    "    :param n_sample:\n",
    "    :param window:\n",
    "    :return:\n",
    "    '''\n",
    "    isinstance(dataset, np.ndarray)\n",
    "    step = 0\n",
    "    res = []\n",
    "    while step < n_sample:\n",
    "        step += 1\n",
    "        randidx = randint(0, dataset.shape[0] - window)\n",
    "        res.append(dataset[randidx:window + randidx])\n",
    "    # label as real data\n",
    "    # label = np.ones(n_sample)\n",
    "    # return np.array(res), label\n",
    "    return np.array(res)"
   ]
  },
  {
   "cell_type": "code",
   "execution_count": null,
   "metadata": {
    "pycharm": {
     "name": "#%%\n"
    }
   },
   "outputs": [],
   "source": [
    "set_seed()"
   ]
  },
  {
   "cell_type": "code",
   "execution_count": null,
   "metadata": {
    "pycharm": {
     "name": "#%%\n"
    }
   },
   "outputs": [],
   "source": [
    "hfd = read_csv('../cleaned_data/hfd.csv')\n",
    "factor_etf_data = read_csv('../cleaned_data/factor_etf_data.csv')\n",
    "hfd_fullname = dic_read('../cleaned_data/hfd_fullname.pkl')\n",
    "factor_etf_name = dic_read('../cleaned_data/factor_etf_name.pkl')"
   ]
  },
  {
   "cell_type": "code",
   "execution_count": null,
   "metadata": {
    "pycharm": {
     "name": "#%%\n"
    }
   },
   "outputs": [],
   "source": [
    "all_data_name = {**factor_etf_name, **hfd_fullname}"
   ]
  },
  {
   "cell_type": "code",
   "execution_count": null,
   "metadata": {
    "pycharm": {
     "name": "#%%\n"
    }
   },
   "outputs": [],
   "source": [
    "dataset = factor_etf_data.join(hfd)\n",
    "data_scaler = MinMaxScaler()\n",
    "data = data_scaler.fit_transform(dataset)"
   ]
  },
  {
   "cell_type": "code",
   "execution_count": null,
   "metadata": {
    "pycharm": {
     "name": "#%%\n"
    }
   },
   "outputs": [],
   "source": [
    "dataset = random_sampling(data, 1000, 48)"
   ]
  },
  {
   "cell_type": "code",
   "execution_count": null,
   "metadata": {
    "pycharm": {
     "name": "#%%\n"
    }
   },
   "outputs": [],
   "source": [
    "class MTTS_GAN():\n",
    "    def __init__(self, dataset):\n",
    "        assert isinstance(dataset, np.ndarray)\n",
    "        self.X_train = dataset\n",
    "        self.ts_length = self.X_train.shape[1]\n",
    "        self.ts_feature = self.X_train.shape[2]\n",
    "        self.ts_shape = (self.ts_length, self.ts_feature)\n",
    "        self.latent_shape = (self.ts_length, self.ts_feature)\n",
    "        optimizer = Adam(0.0002, 0.5)\n",
    "\n",
    "        # Build and compile the discriminator\n",
    "        self.discriminator = self.build_discriminator()\n",
    "        self.discriminator.compile(\n",
    "            loss='binary_crossentropy',\n",
    "            optimizer=optimizer,\n",
    "            metrics=['accuracy'])\n",
    "\n",
    "        # Build the generator\n",
    "        self.generator = self.build_generator()\n",
    "\n",
    "        # The generator takes noise as input and generates TS\n",
    "        z = Input(shape=(self.ts_length, self.ts_feature,))\n",
    "        ts = self.generator(z)\n",
    "\n",
    "        # For the combined model we will only train the generator\n",
    "        self.discriminator.trainable = False\n",
    "\n",
    "        # The discriminator takes generated time series as input and determines validity\n",
    "        validity = self.discriminator(ts)\n",
    "\n",
    "        # The combined model  (stacked generator and discriminator)\n",
    "        # Trains the generator to fool the discriminator\n",
    "        self.combined = Model(z, validity)\n",
    "        self.combined.compile(loss='binary_crossentropy', optimizer=optimizer)\n",
    "    def build_generator(self):\n",
    "        model = Sequential(\n",
    "            [\n",
    "                LSTM(100, input_shape=self.latent_shape, activation='sigmoid', return_sequences=True),\n",
    "                LayerNormalization(),\n",
    "                LSTM(100, return_sequences=True, activation='sigmoid'),\n",
    "                LeakyReLU(alpha=.2),\n",
    "                LayerNormalization(),\n",
    "                Dense(self.ts_feature)\n",
    "            ])\n",
    "        model.summary()\n",
    "        noise = Input(shape=(self.ts_length, self.ts_feature,))\n",
    "        ts = model(noise)\n",
    "        return Model(noise, ts)\n",
    "    def build_discriminator(self):\n",
    "        model = Sequential(\n",
    "            [\n",
    "                LSTM(100, input_shape=self.ts_shape, return_sequences=True),\n",
    "                LSTM(100, return_sequences=True),\n",
    "                Dense(1, activation='sigmoid')\n",
    "            ]\n",
    "        )\n",
    "        model.summary()\n",
    "        ts = Input(shape=self.ts_shape)\n",
    "        validity = model(ts)\n",
    "        return Model(ts, validity)\n",
    "    def train(self, epochs, batch_size=128, sample_interval=50):\n",
    "        # Load the dataset\n",
    "        # (X_train, _), (_, _) = mnist.load_data()\n",
    "        #\n",
    "        # # Rescale -1 to 1\n",
    "        # X_train = X_train / 127.5 - 1.\n",
    "        # X_train = np.expand_dims(X_train, axis=3)\n",
    "\n",
    "        # Adversarial ground truths\n",
    "        valid = np.ones((batch_size, 1))\n",
    "        fake = np.zeros((batch_size, 1))\n",
    "        for epoch in range(epochs):\n",
    "            # ---------------------\n",
    "            #  Train Discriminator\n",
    "            # ---------------------\n",
    "\n",
    "            # Select a random batch of latent_shape\n",
    "            idx = np.random.randint(0, self.X_train.shape[0], batch_size)\n",
    "            ts = self.X_train[idx]\n",
    "            noise = np.random.normal(0, 1, (batch_size, self.ts_length, self.ts_feature))\n",
    "\n",
    "            # Generate a batch of new ts\n",
    "            gen_ts = self.generator.predict(noise)\n",
    "\n",
    "            # Train the discriminator\n",
    "            d_loss_real = self.discriminator.train_on_batch(ts, valid)\n",
    "            d_loss_fake = self.discriminator.train_on_batch(gen_ts, fake)\n",
    "            d_loss = 0.5 * np.add(d_loss_real, d_loss_fake)\n",
    "\n",
    "            # ---------------------\n",
    "            #  Train Generator\n",
    "            # ---------------------\n",
    "            noise = np.random.normal(0, 1, (batch_size, self.ts_length, self.ts_feature))\n",
    "\n",
    "            # Train the generator (to have the discriminator label samples as valid)\n",
    "            g_loss = self.combined.train_on_batch(noise, valid)\n",
    "\n",
    "            # Plot the progress\n",
    "            print(\"%d [D loss: %f, acc.: %.2f%%] [G loss: %f]\" % (epoch, d_loss[0], 100 * d_loss[1], g_loss))\n",
    "        time_now = datetime.now().strftime(\"%Y%m%d_%H-%M-%S\")\n",
    "        self.generator.compile(optimizer=Adam(0.0002, 0.5), loss='binary_crossentropy')\n",
    "        self.generator.save(f'./trained_generator/MTSS_GAN{time_now}.h5')"
   ]
  },
  {
   "cell_type": "code",
   "execution_count": null,
   "metadata": {
    "pycharm": {
     "name": "#%%\n"
    }
   },
   "outputs": [],
   "source": [
    "if __name__ == '__main__':\n",
    "    from datetime import datetime\n",
    "    gan = MTTS_GAN(dataset)\n",
    "    gan.train(epochs=5000, batch_size=32, sample_interval=200)\n",
    "    # time_now = datetime.now().strftime(\"%Y%m%d_%H-%M-%S\")\n",
    "    # gan.generator.compile(optimizer=Adam(0.0002, 0.5),loss='binary_crossentropy')\n",
    "    # gan.generator.save(f'./trained_generator/MTTS_GAN{time_now}.h5')"
   ]
  }
 ],
 "metadata": {
  "kernelspec": {
   "display_name": "Python 3",
   "language": "python",
   "name": "python3"
  },
  "language_info": {
   "codemirror_mode": {
    "name": "ipython",
    "version": 3
   },
   "file_extension": ".py",
   "mimetype": "text/x-python",
   "name": "python",
   "nbconvert_exporter": "python",
   "pygments_lexer": "ipython3",
   "version": "3.6.4"
  }
 },
 "nbformat": 4,
 "nbformat_minor": 2
}